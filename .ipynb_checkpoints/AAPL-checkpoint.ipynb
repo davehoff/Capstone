{
 "cells": [
  {
   "cell_type": "markdown",
   "metadata": {},
   "source": [
    "- In this notebook I have imported all of my data and put it into a dataframe\n",
    "- This data consists of the stock information for DJIA since 2006\n",
    "- My goal is to predict whether or not a stock will beat the benchmark for a given year\n",
    "- I plan to also bring in more data involving whether or not the company had a major release/product update/innovation that year\n",
    "- Outside data on how the company's balance sheet/incomate statement looked for a given year\n",
    "- Any major data on deals/news for the year\n",
    "- Oil price movement for the year\n",
    "- Dollar strength for the year\n",
    "- Maybe use less years to more accurately predit recent years movement\n",
    "- commodity prices\n",
    "- other currency prices\n",
    "- trucking/shipping index\n",
    "- 01/2006 - 12/2017"
   ]
  },
  {
   "cell_type": "code",
   "execution_count": 18,
   "metadata": {
    "collapsed": true
   },
   "outputs": [],
   "source": [
    "import pandas as pd\n",
    "\n",
    "AABA = \"/Users/davidhoffman/desktop/stocks_download/AABA_2006-01-01_to_2018-01-01.csv\"\n",
    "AABA = pd.read_csv(AABA)\n"
   ]
  },
  {
   "cell_type": "code",
   "execution_count": 19,
   "metadata": {
    "collapsed": true
   },
   "outputs": [],
   "source": [
    "AAPL = \"/Users/davidhoffman/desktop/stocks_download/AAPL_2006-01-01_to_2018-01-01.csv\"\n",
    "AAPL = pd.read_csv(AAPL)"
   ]
  },
  {
   "cell_type": "code",
   "execution_count": 25,
   "metadata": {},
   "outputs": [],
   "source": [
    "#retrieving all the csvs\n",
    "AMZN=\"/Users/davidhoffman/desktop/stocks_download/AMZN_2006-01-01_to_2018-01-01.csv\"\n",
    "AXP=\"/Users/davidhoffman/desktop/stocks_download/AXP_2006-01-01_to_2018-01-01.csv\"\n",
    "BA=\"/Users/davidhoffman/desktop/stocks_download/BA_2006-01-01_to_2018-01-01.csv\"\n",
    "CAT=\"/Users/davidhoffman/desktop/stocks_download/CAT_2006-01-01_to_2018-01-01.csv\"\n",
    "CSCO=\"/Users/davidhoffman/desktop/stocks_download/CSCO_2006-01-01_to_2018-01-01.csv\"\n",
    "CVX=\"/Users/davidhoffman/desktop/stocks_download/CVX_2006-01-01_to_2018-01-01.csv\"\n",
    "DIS=\"/Users/davidhoffman/desktop/stocks_download/DIS_2006-01-01_to_2018-01-01.csv\"\n",
    "GE=\"/Users/davidhoffman/desktop/stocks_download/GE_2006-01-01_to_2018-01-01.csv\"\n",
    "GOOGL=\"/Users/davidhoffman/desktop/stocks_download/GOOGL_2006-01-01_to_2018-01-01.csv\"\n",
    "GS=\"/Users/davidhoffman/desktop/stocks_download/GS_2006-01-01_to_2018-01-01.csv\"\n",
    "HD=\"/Users/davidhoffman/desktop/stocks_download/HD_2006-01-01_to_2018-01-01.csv\"\n",
    "IBM=\"/Users/davidhoffman/desktop/stocks_download/IBM_2006-01-01_to_2018-01-01.csv\"\n",
    "INTC=\"/Users/davidhoffman/desktop/stocks_download/INTC_2006-01-01_to_2018-01-01.csv\"\n",
    "JPM=\"/Users/davidhoffman/desktop/stocks_download/JPM_2006-01-01_to_2018-01-01.csv\"\n",
    "KO=\"/Users/davidhoffman/desktop/stocks_download/KO_2006-01-01_to_2018-01-01.csv\"\n",
    "MCD=\"/Users/davidhoffman/desktop/stocks_download/MCD_2006-01-01_to_2018-01-01.csv\"\n",
    "MMM=\"/Users/davidhoffman/desktop/stocks_download/MMM_2006-01-01_to_2018-01-01.csv\"\n",
    "MRK=\"/Users/davidhoffman/desktop/stocks_download/MRK_2006-01-01_to_2018-01-01.csv\"\n",
    "MSFT=\"/Users/davidhoffman/desktop/stocks_download/MSFT_2006-01-01_to_2018-01-01.csv\"\n",
    "NKE=\"/Users/davidhoffman/desktop/stocks_download/NKE_2006-01-01_to_2018-01-01.csv\"\n",
    "PFE=\"/Users/davidhoffman/desktop/stocks_download/PFE_2006-01-01_to_2018-01-01.csv\"\n",
    "PG=\"/Users/davidhoffman/desktop/stocks_download/PG_2006-01-01_to_2018-01-01.csv\"\n",
    "TRV=\"/Users/davidhoffman/desktop/stocks_download/TRV_2006-01-01_to_2018-01-01.csv\"\n",
    "UNH=\"/Users/davidhoffman/desktop/stocks_download/UNH_2006-01-01_to_2018-01-01.csv\"\n",
    "UTX=\"/Users/davidhoffman/desktop/stocks_download/UTX_2006-01-01_to_2018-01-01.csv\"\n",
    "VZ=\"/Users/davidhoffman/desktop/stocks_download/VZ_2006-01-01_to_2018-01-01.csv\"\n",
    "WMT=\"/Users/davidhoffman/desktop/stocks_download/WMT_2006-01-01_to_2018-01-01.csv\"\n",
    "XOM=\"/Users/davidhoffman/desktop/stocks_download/XOM_2006-01-01_to_2018-01-01.csv\"\n",
    "\n",
    "#index_col='Date'?\n",
    "\n",
    "AMZN = pd.read_csv(AMZN)\n",
    "AXP = pd.read_csv(AXP)\n",
    "BA = pd.read_csv(BA)\n",
    "CAT = pd.read_csv(CAT)\n",
    "CSCO = pd.read_csv(CSCO)\n",
    "CVX = pd.read_csv(CVX)\n",
    "DIS = pd.read_csv(DIS)\n",
    "GE = pd.read_csv(GE)\n",
    "GOOGLE = pd.read_csv(GOOGL)\n",
    "GS = pd.read_csv(GS)\n",
    "HD = pd.read_csv(HD)\n",
    "IBM = pd.read_csv(IBM)\n",
    "INTC = pd.read_csv(INTC)\n",
    "JPM = pd.read_csv(JPM)\n",
    "KO = pd.read_csv(KO)\n",
    "MCD = pd.read_csv(MCD)\n",
    "MMM = pd.read_csv(MMM)\n",
    "MRK = pd.read_csv(MRK)\n",
    "MSFT = pd.read_csv(MSFT)\n",
    "NKE = pd.read_csv(NKE)\n",
    "PFE = pd.read_csv(PFE)\n",
    "PG = pd.read_csv(PG)\n",
    "TRV = pd.read_csv(TRV)\n",
    "UNH = pd.read_csv(UNH)\n",
    "UTX = pd.read_csv(UTX)\n",
    "VZ = pd.read_csv(VZ)\n",
    "WMT = pd.read_csv(WMT)\n",
    "XOM = pd.read_csv(XOM)"
   ]
  },
  {
   "cell_type": "code",
   "execution_count": 26,
   "metadata": {
    "collapsed": true
   },
   "outputs": [],
   "source": [
    "#Combining all the individual stock dataframes\n",
    "stocks = pd.concat((AMZN,AAPL,AXP,BA,CAT,CSCO,CVX,DIS,GE,GOOGLE,GS, HD, IBM,INTC,JPM,KO,MCD,MMM,MRK,MSFT,NKE,PFE,PG,TRV,UNH,UTX,VZ,WMT,XOM))"
   ]
  },
  {
   "cell_type": "code",
   "execution_count": 27,
   "metadata": {},
   "outputs": [
    {
     "data": {
      "text/plain": [
       "''"
      ]
     },
     "execution_count": 27,
     "metadata": {},
     "output_type": "execute_result"
    }
   ],
   "source": [
    "#company = stocks.groupby('Name')\n",
    "\"\"\n",
    "#company['Name']\n",
    "#stocks.Name."
   ]
  },
  {
   "cell_type": "code",
   "execution_count": 6,
   "metadata": {
    "collapsed": true
   },
   "outputs": [],
   "source": [
    "#AMZN = pd.DataFrame()\n",
    "#for i in stocks.shape[0]:\n",
    "    #if stocks.iloc[i]['Name'] == 'AMZN':\n",
    "        "
   ]
  },
  {
   "cell_type": "code",
   "execution_count": 29,
   "metadata": {
    "collapsed": true
   },
   "outputs": [],
   "source": [
    "#Making sure date is in datetime\n",
    "stocks['Date'] = pd.to_datetime(stocks.Date)"
   ]
  },
  {
   "cell_type": "code",
   "execution_count": 30,
   "metadata": {
    "collapsed": true
   },
   "outputs": [],
   "source": [
    "#Setting the date as the index\n",
    "stocks.set_index('Date', inplace=True)"
   ]
  },
  {
   "cell_type": "code",
   "execution_count": 31,
   "metadata": {},
   "outputs": [],
   "source": [
    "#Only keep closing price of the day\n",
    "\n",
    "stocks.drop(['Open','High','Low'], axis = 1, inplace = True)"
   ]
  },
  {
   "cell_type": "code",
   "execution_count": 40,
   "metadata": {},
   "outputs": [
    {
     "data": {
      "text/plain": [
       "((3020,), 87573)"
      ]
     },
     "execution_count": 40,
     "metadata": {},
     "output_type": "execute_result"
    }
   ],
   "source": [
    "stocks.index.unique().shape, stocks.shape[0]"
   ]
  },
  {
   "cell_type": "code",
   "execution_count": 41,
   "metadata": {},
   "outputs": [
    {
     "data": {
      "text/html": [
       "<div>\n",
       "<style>\n",
       "    .dataframe thead tr:only-child th {\n",
       "        text-align: right;\n",
       "    }\n",
       "\n",
       "    .dataframe thead th {\n",
       "        text-align: left;\n",
       "    }\n",
       "\n",
       "    .dataframe tbody tr th {\n",
       "        vertical-align: top;\n",
       "    }\n",
       "</style>\n",
       "<table border=\"1\" class=\"dataframe\">\n",
       "  <thead>\n",
       "    <tr style=\"text-align: right;\">\n",
       "      <th></th>\n",
       "      <th>Close</th>\n",
       "      <th>Volume</th>\n",
       "      <th>Name</th>\n",
       "    </tr>\n",
       "    <tr>\n",
       "      <th>Date</th>\n",
       "      <th></th>\n",
       "      <th></th>\n",
       "      <th></th>\n",
       "    </tr>\n",
       "  </thead>\n",
       "  <tbody>\n",
       "    <tr>\n",
       "      <th>2006-01-03</th>\n",
       "      <td>47.58</td>\n",
       "      <td>7582127</td>\n",
       "      <td>AMZN</td>\n",
       "    </tr>\n",
       "    <tr>\n",
       "      <th>2006-01-04</th>\n",
       "      <td>47.25</td>\n",
       "      <td>7440914</td>\n",
       "      <td>AMZN</td>\n",
       "    </tr>\n",
       "    <tr>\n",
       "      <th>2006-01-05</th>\n",
       "      <td>47.65</td>\n",
       "      <td>5417258</td>\n",
       "      <td>AMZN</td>\n",
       "    </tr>\n",
       "    <tr>\n",
       "      <th>2006-01-06</th>\n",
       "      <td>47.87</td>\n",
       "      <td>6154285</td>\n",
       "      <td>AMZN</td>\n",
       "    </tr>\n",
       "    <tr>\n",
       "      <th>2006-01-09</th>\n",
       "      <td>47.08</td>\n",
       "      <td>8945056</td>\n",
       "      <td>AMZN</td>\n",
       "    </tr>\n",
       "  </tbody>\n",
       "</table>\n",
       "</div>"
      ],
      "text/plain": [
       "            Close   Volume  Name\n",
       "Date                            \n",
       "2006-01-03  47.58  7582127  AMZN\n",
       "2006-01-04  47.25  7440914  AMZN\n",
       "2006-01-05  47.65  5417258  AMZN\n",
       "2006-01-06  47.87  6154285  AMZN\n",
       "2006-01-09  47.08  8945056  AMZN"
      ]
     },
     "execution_count": 41,
     "metadata": {},
     "output_type": "execute_result"
    }
   ],
   "source": [
    "stocks.head()"
   ]
  },
  {
   "cell_type": "code",
   "execution_count": null,
   "metadata": {
    "collapsed": true
   },
   "outputs": [],
   "source": []
  }
 ],
 "metadata": {
  "kernelspec": {
   "display_name": "Python [conda env:anaconda3]",
   "language": "python",
   "name": "conda-env-anaconda3-py"
  },
  "language_info": {
   "codemirror_mode": {
    "name": "ipython",
    "version": 3
   },
   "file_extension": ".py",
   "mimetype": "text/x-python",
   "name": "python",
   "nbconvert_exporter": "python",
   "pygments_lexer": "ipython3",
   "version": "3.6.3"
  }
 },
 "nbformat": 4,
 "nbformat_minor": 2
}
