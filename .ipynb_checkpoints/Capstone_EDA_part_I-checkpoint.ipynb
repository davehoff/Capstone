{
 "cells": [
  {
   "cell_type": "markdown",
   "metadata": {},
   "source": [
    "- In this notebook I have imported all of my data and put it into a dataframe\n",
    "- This data consists of the stock information for DJIA since 2006\n",
    "- My goal is to predict whether or not a stock will beat the benchmark for a given year\n",
    "- I plan to also bring in more dat involving whether or not the company had a major release/product update/innovation that year\n",
    "- Outside data on how the company's balance sheet/incomate statement looked for a given year\n",
    "- Any major data on deals/news for the year\n",
    "- Oil price movement for the year\n",
    "- Dollar strength for the year"
   ]
  },
  {
   "cell_type": "code",
   "execution_count": 4,
   "metadata": {},
   "outputs": [],
   "source": [
    "import pandas as pd\n",
    "\n",
    "AABA = \"/Users/davidhoffman/desktop/stocks_download/AABA_2006-01-01_to_2018-01-01.csv\"\n",
    "AABA = pd.read_csv(AABA)\n"
   ]
  },
  {
   "cell_type": "code",
   "execution_count": 5,
   "metadata": {
    "collapsed": true
   },
   "outputs": [],
   "source": [
    "AAPL = \"/Users/davidhoffman/desktop/stocks_download/AAPL_2006-01-01_to_2018-01-01.csv\"\n",
    "AAPL = pd.read_csv(AAPL)"
   ]
  },
  {
   "cell_type": "code",
   "execution_count": 6,
   "metadata": {
    "collapsed": true
   },
   "outputs": [],
   "source": [
    "\n",
    "AMZN=\"/Users/davidhoffman/desktop/stocks_download/AMZN_2006-01-01_to_2018-01-01.csv\"\n",
    "AXP=\"/Users/davidhoffman/desktop/stocks_download/AXP_2006-01-01_to_2018-01-01.csv\"\n",
    "BA=\"/Users/davidhoffman/desktop/stocks_download/BA_2006-01-01_to_2018-01-01.csv\"\n",
    "CAT=\"/Users/davidhoffman/desktop/stocks_download/CAT_2006-01-01_to_2018-01-01.csv\"\n",
    "CSCO=\"/Users/davidhoffman/desktop/stocks_download/CSCO_2006-01-01_to_2018-01-01.csv\"\n",
    "CVX=\"/Users/davidhoffman/desktop/stocks_download/CVX_2006-01-01_to_2018-01-01.csv\"\n",
    "DIS=\"/Users/davidhoffman/desktop/stocks_download/DIS_2006-01-01_to_2018-01-01.csv\"\n",
    "GE=\"/Users/davidhoffman/desktop/stocks_download/GE_2006-01-01_to_2018-01-01.csv\"\n",
    "GOOGL=\"/Users/davidhoffman/desktop/stocks_download/GOOGL_2006-01-01_to_2018-01-01.csv\"\n",
    "GS=\"/Users/davidhoffman/desktop/stocks_download/GS_2006-01-01_to_2018-01-01.csv\"\n",
    "HD=\"/Users/davidhoffman/desktop/stocks_download/HD_2006-01-01_to_2018-01-01.csv\"\n",
    "IBM=\"/Users/davidhoffman/desktop/stocks_download/IBM_2006-01-01_to_2018-01-01.csv\"\n",
    "INTC=\"/Users/davidhoffman/desktop/stocks_download/INTC_2006-01-01_to_2018-01-01.csv\"\n",
    "JPM=\"/Users/davidhoffman/desktop/stocks_download/JPM_2006-01-01_to_2018-01-01.csv\"\n",
    "KO=\"/Users/davidhoffman/desktop/stocks_download/KO_2006-01-01_to_2018-01-01.csv\"\n",
    "MCD=\"/Users/davidhoffman/desktop/stocks_download/MCD_2006-01-01_to_2018-01-01.csv\"\n",
    "MMM=\"/Users/davidhoffman/desktop/stocks_download/MMM_2006-01-01_to_2018-01-01.csv\"\n",
    "MRK=\"/Users/davidhoffman/desktop/stocks_download/MRK_2006-01-01_to_2018-01-01.csv\"\n",
    "MSFT=\"/Users/davidhoffman/desktop/stocks_download/MSFT_2006-01-01_to_2018-01-01.csv\"\n",
    "NKE=\"/Users/davidhoffman/desktop/stocks_download/NKE_2006-01-01_to_2018-01-01.csv\"\n",
    "PFE=\"/Users/davidhoffman/desktop/stocks_download/PFE_2006-01-01_to_2018-01-01.csv\"\n",
    "PG=\"/Users/davidhoffman/desktop/stocks_download/PG_2006-01-01_to_2018-01-01.csv\"\n",
    "TRV=\"/Users/davidhoffman/desktop/stocks_download/TRV_2006-01-01_to_2018-01-01.csv\"\n",
    "UNH=\"/Users/davidhoffman/desktop/stocks_download/UNH_2006-01-01_to_2018-01-01.csv\"\n",
    "UTX=\"/Users/davidhoffman/desktop/stocks_download/UTX_2006-01-01_to_2018-01-01.csv\"\n",
    "VZ=\"/Users/davidhoffman/desktop/stocks_download/VZ_2006-01-01_to_2018-01-01.csv\"\n",
    "WMT=\"/Users/davidhoffman/desktop/stocks_download/WMT_2006-01-01_to_2018-01-01.csv\"\n",
    "XOM=\"/Users/davidhoffman/desktop/stocks_download/XOM_2006-01-01_to_2018-01-01.csv\"\n",
    "\n",
    "AMZN = pd.read_csv(AMZN)\n",
    "AXP = pd.read_csv(AXP)\n",
    "BA = pd.read_csv(BA)\n",
    "CAT = pd.read_csv(CAT)\n",
    "CSCO = pd.read_csv(CSCO)\n",
    "CVX = pd.read_csv(CVX)\n",
    "DIS = pd.read_csv(DIS)\n",
    "GE = pd.read_csv(GE)\n",
    "GOOGLE = pd.read_csv(GOOGL)\n",
    "GS = pd.read_csv(GS)\n",
    "HD = pd.read_csv(HD)\n",
    "IBM = pd.read_csv(IBM)\n",
    "INTC = pd.read_csv(INTC)\n",
    "JPM = pd.read_csv(JPM)\n",
    "KO = pd.read_csv(KO)\n",
    "MCD = pd.read_csv(MCD)\n",
    "MMM = pd.read_csv(MMM)\n",
    "MRK = pd.read_csv(MRK)\n",
    "MSFT = pd.read_csv(MSFT)\n",
    "NKE = pd.read_csv(NKE)\n",
    "PFE = pd.read_csv(PFE)\n",
    "PG = pd.read_csv(PG)\n",
    "TRV = pd.read_csv(TRV)\n",
    "UNH = pd.read_csv(UNH)\n",
    "UTX = pd.read_csv(UTX)\n",
    "VZ = pd.read_csv(VZ)\n",
    "WMT = pd.read_csv(WMT)\n",
    "XOM = pd.read_csv(XOM)"
   ]
  },
  {
   "cell_type": "code",
   "execution_count": 7,
   "metadata": {
    "collapsed": true
   },
   "outputs": [],
   "source": [
    "stocks = pd.concat((AMZN,AAPL,AXP,BA,CAT,CSCO,CVX,DIS,GE,GOOGLE,GS, HD, IBM,INTC,JPM,KO,MCD,MMM,MRK,MSFT,NKE,PFE,PG,TRV,UNH,UTX,VZ,WMT,XOM))"
   ]
  },
  {
   "cell_type": "code",
   "execution_count": null,
   "metadata": {
    "collapsed": true
   },
   "outputs": [],
   "source": []
  }
 ],
 "metadata": {
  "kernelspec": {
   "display_name": "Python [conda env:anaconda3]",
   "language": "python",
   "name": "conda-env-anaconda3-py"
  },
  "language_info": {
   "codemirror_mode": {
    "name": "ipython",
    "version": 3
   },
   "file_extension": ".py",
   "mimetype": "text/x-python",
   "name": "python",
   "nbconvert_exporter": "python",
   "pygments_lexer": "ipython3",
   "version": "3.6.3"
  }
 },
 "nbformat": 4,
 "nbformat_minor": 2
}
