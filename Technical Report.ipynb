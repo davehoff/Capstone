{
 "cells": [
  {
   "attachments": {},
   "cell_type": "markdown",
   "metadata": {},
   "source": [
    "1: How I acquired my data\n",
    "\n",
    "-\tI acquired my data from the Kaggle\n",
    "-\tLink: https://www.kaggle.com/szrlee/stock-time-series-20050101-to-20171231\n",
    "-\tDJIA 30 Stock Time Series\n",
    "o\tHistorical stock data for DIJA 30 companies (2006-01-01 to 2018-01-01)\n",
    "\n",
    "2: How the data was transformed\n",
    "-\tThe data frame for each company contained a date, open, close, high, low, and volume columns\n",
    "-\tI decided to turn the date column into my index and drop the rest of the columns except for Close.\n",
    "-\tThis allowed me to set up my time series properly with only one column of focus.\n",
    "-\tI only kept the close column because I believe that to be the most important number in regards to share price and wanted to eliminate any excess noise as I created my minimum viable product\n",
    "\n",
    "3: How I operationalized my outcome variable\n",
    "-\tI determined my outcome variable to be a stocks share price the following day\n",
    "-\tTo solve for this, I set up a training and testing set for my data\n",
    "-\tMy train consisted of all of my data except for the last known day\n",
    "-\tMy test set consisted of the held out day’s share price\n",
    "-\tThis allowed me to train my model on the training set and when I then predicted the next day’s share price I could compare it to the held out day’s actual price.\n",
    "\n",
    "4: My choice of model and the hyper parameters (if any), including what metric or metrics I used to determine a successful model\n",
    "-\tModel:\n",
    "o\tI created an ARIMA Model\n",
    "o\tIt was fit on the training data\n",
    "o\tI predicted it my calling the predict method on it and indicating the start date as the length of the training data and the end equal to the length of the training data minus the days predicted (which in this case is one).\n",
    "o\tHyper parameters\n",
    "\tP: I created a for loop to loop through different values of p to determine which would create the best model\n",
    "\tD: I set d equal to 2 to account for degrees of differencing to make the data stationary\n",
    "\tQ: I kept Q at 1\n",
    "o\tMy in sample predictions when my model was trained on the data griven resulted in an r2 score of .52 indicating that my model accounted for 52 percent of the variance\n",
    "\tModel for above: ar1ma1 = ARIMA(df.Close, (2,2,1)).fit(disp=0)\n",
    "\n",
    "5: Any future deployment strategies, additions of data, or modeling techniques\n",
    "-\tOther data I would like to add to help make for a more robust model:\n",
    "o\tFinancial statement data for each company\n",
    "o\tOil price\n",
    "o\tDollar price/other currencies\n",
    "o\tCommodity prices\n",
    "o\tTrucking/shipping index\n",
    "-\tOther modeling techniques:\n",
    "o\tI would like to analyze moving averages and develop a strategy for technical analysis to indicate smart times to buy/sell\n"
   ]
  }
 ],
 "metadata": {
  "kernelspec": {
   "display_name": "Python [conda env:anaconda3]",
   "language": "python",
   "name": "conda-env-anaconda3-py"
  },
  "language_info": {
   "codemirror_mode": {
    "name": "ipython",
    "version": 3
   },
   "file_extension": ".py",
   "mimetype": "text/x-python",
   "name": "python",
   "nbconvert_exporter": "python",
   "pygments_lexer": "ipython3",
   "version": "3.6.3"
  }
 },
 "nbformat": 4,
 "nbformat_minor": 2
}
