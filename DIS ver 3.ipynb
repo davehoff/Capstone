{
 "cells": [
  {
   "cell_type": "code",
   "execution_count": 1,
   "metadata": {},
   "outputs": [
    {
     "name": "stderr",
     "output_type": "stream",
     "text": [
      "/Users/davidhoffman/anaconda3/lib/python3.6/site-packages/statsmodels/compat/pandas.py:56: FutureWarning: The pandas.core.datetools module is deprecated and will be removed in a future version. Please use the pandas.tseries module instead.\n",
      "  from pandas.core import datetools\n"
     ]
    }
   ],
   "source": [
    "import pandas as pd\n",
    "import numpy as np\n",
    "from statsmodels.tsa.arima_model import ARIMA\n",
    "from statsmodels.tsa.arima_model import ARMA\n",
    "import matplotlib.pyplot as plt\n",
    "from statsmodels.tsa.stattools import adfuller\n",
    "from sklearn.metrics import r2_score\n",
    "\n"
   ]
  },
  {
   "cell_type": "code",
   "execution_count": 2,
   "metadata": {
    "collapsed": true
   },
   "outputs": [],
   "source": [
    "DIS = \"/Users/davidhoffman/desktop/stocks_download/DIS_2006-01-01_to_2018-01-01.csv\"\n",
    "df = pd.read_csv(DIS, index_col=\"Date\", parse_dates=True)"
   ]
  },
  {
   "cell_type": "code",
   "execution_count": 3,
   "metadata": {
    "collapsed": true
   },
   "outputs": [],
   "source": [
    "#Only keep closing price of the day\n",
    "df.drop(['Open','High','Low'], axis = 1, inplace = True)\n",
    "df.drop(['Name'], axis = 1, inplace = True)\n",
    "df.drop(['Volume'], axis = 1, inplace = True)"
   ]
  },
  {
   "cell_type": "code",
   "execution_count": 4,
   "metadata": {
    "collapsed": true
   },
   "outputs": [],
   "source": [
    "#Seperate into train and test\n",
    "\n",
    "train = df.Close[:-31]\n",
    "test = df.Close[len(train)-20:]"
   ]
  },
  {
   "cell_type": "code",
   "execution_count": 5,
   "metadata": {
    "collapsed": true
   },
   "outputs": [],
   "source": [
    "#Difference the train set\n",
    "train_diff = train.diff()"
   ]
  },
  {
   "cell_type": "code",
   "execution_count": 6,
   "metadata": {},
   "outputs": [
    {
     "name": "stderr",
     "output_type": "stream",
     "text": [
      "/Users/davidhoffman/anaconda3/lib/python3.6/site-packages/statsmodels/tsa/kalmanf/kalmanfilter.py:646: FutureWarning: Conversion of the second argument of issubdtype from `float` to `np.floating` is deprecated. In future, it will be treated as `np.float64 == np.dtype(float).type`.\n",
      "  if issubdtype(paramsdtype, float):\n",
      "/Users/davidhoffman/anaconda3/lib/python3.6/site-packages/statsmodels/tsa/kalmanf/kalmanfilter.py:650: FutureWarning: Conversion of the second argument of issubdtype from `complex` to `np.complexfloating` is deprecated. In future, it will be treated as `np.complex128 == np.dtype(complex).type`.\n",
      "  elif issubdtype(paramsdtype, complex):\n"
     ]
    }
   ],
   "source": [
    "#fit model\n",
    "ar1ma1 = ARIMA(train_diff.dropna().values, (1,1,1)).fit(disp=0)\n"
   ]
  },
  {
   "cell_type": "code",
   "execution_count": 7,
   "metadata": {},
   "outputs": [
    {
     "name": "stderr",
     "output_type": "stream",
     "text": [
      "/Users/davidhoffman/anaconda3/lib/python3.6/site-packages/statsmodels/tsa/kalmanf/kalmanfilter.py:577: FutureWarning: Conversion of the second argument of issubdtype from `float` to `np.floating` is deprecated. In future, it will be treated as `np.float64 == np.dtype(float).type`.\n",
      "  if issubdtype(paramsdtype, float):\n"
     ]
    }
   ],
   "source": [
    "#predict out of sample month ---> test set\n",
    "\n",
    "preds = ar1ma1.predict(start=len(train)-20,end=len(train)+31)"
   ]
  },
  {
   "cell_type": "code",
   "execution_count": 8,
   "metadata": {
    "collapsed": true
   },
   "outputs": [],
   "source": [
    "#Add predictions to the last value in train set\n",
    "full_pred = train[len(train)-20]+np.cumsum(preds)"
   ]
  },
  {
   "cell_type": "code",
   "execution_count": 9,
   "metadata": {},
   "outputs": [
    {
     "data": {
      "text/plain": [
       "((51,), (52,))"
      ]
     },
     "execution_count": 9,
     "metadata": {},
     "output_type": "execute_result"
    }
   ],
   "source": [
    "test.shape, full_pred.shape"
   ]
  },
  {
   "cell_type": "code",
   "execution_count": 10,
   "metadata": {
    "scrolled": true
   },
   "outputs": [
    {
     "name": "stdout",
     "output_type": "stream",
     "text": [
      "0\n",
      "actual 98.25 predicted 98.39872139434142\n",
      "difference (pred - actual) 0.14872139434142184\n",
      "1\n",
      "actual 99.01 predicted 97.67065002482434\n",
      "difference (pred - actual) -1.339349975175665\n",
      "2\n",
      "actual 99.4 predicted 97.31570369325576\n",
      "difference (pred - actual) -2.0842963067442497\n",
      "3\n",
      "actual 98.7 predicted 98.05934415611624\n",
      "difference (pred - actual) -0.6406558438837635\n",
      "4\n",
      "actual 98.29 predicted 98.51049243405106\n",
      "difference (pred - actual) 0.220492434051053\n",
      "5\n",
      "actual 97.8 predicted 99.04211836832492\n",
      "difference (pred - actual) 1.242118368324924\n",
      "6\n",
      "actual 98.56 predicted 98.31387331962226\n",
      "difference (pred - actual) -0.246126680377742\n",
      "7\n",
      "actual 98.31 predicted 98.60372003856786\n",
      "difference (pred - actual) 0.2937200385678551\n",
      "8\n",
      "actual 98.04 predicted 98.91363315271276\n",
      "difference (pred - actual) 0.8736331527127561\n",
      "9\n",
      "actual 97.81 predicted 99.18314029740442\n",
      "difference (pred - actual) 1.3731402974044187\n",
      "10\n",
      "actual 99.03 predicted 97.99131195304638\n",
      "difference (pred - actual) -1.0386880469536237\n",
      "11\n",
      "actual 98.35 predicted 98.71463860748075\n",
      "difference (pred - actual) 0.3646386074807566\n",
      "12\n",
      "actual 98.64 predicted 98.46020261781281\n",
      "difference (pred - actual) -0.17979738218718921\n",
      "13\n",
      "actual 100.64 predicted 96.48258856409137\n",
      "difference (pred - actual) -4.157411435908628\n",
      "14\n",
      "actual 101.61 predicted 95.54364077426241\n",
      "difference (pred - actual) -6.066359225737585\n",
      "15\n",
      "actual 101.18 predicted 96.01588269252906\n",
      "difference (pred - actual) -5.164117307470946\n",
      "16\n",
      "actual 102.68 predicted 94.54299473169455\n",
      "difference (pred - actual) -8.137005268305458\n",
      "17\n",
      "actual 104.78 predicted 92.46595175857777\n",
      "difference (pred - actual) -12.314048241422228\n",
      "18\n",
      "actual 104.74 predicted 92.54622372287847\n",
      "difference (pred - actual) -12.193776277121529\n",
      "19\n",
      "actual 103.17 predicted 94.16887155851893\n",
      "difference (pred - actual) -9.001128441481072\n",
      "20\n",
      "actual 103.69 predicted 94.1557416782196\n",
      "difference (pred - actual) -9.5342583217804\n",
      "21\n",
      "actual 103.6 predicted 94.15585657965954\n",
      "difference (pred - actual) -9.444143420340453\n",
      "22\n",
      "actual 103.44 predicted 94.15586423899587\n",
      "difference (pred - actual) -9.284135761004123\n",
      "23\n",
      "actual 102.75 predicted 94.15587276666427\n",
      "difference (pred - actual) -8.594127233335726\n",
      "24\n",
      "actual 103.0 predicted 94.15588128730184\n",
      "difference (pred - actual) -8.844118712698162\n",
      "25\n",
      "actual 102.74 predicted 94.15588980799635\n",
      "difference (pred - actual) -8.58411019200365\n",
      "26\n",
      "actual 102.64 predicted 94.15589832869038\n",
      "difference (pred - actual) -8.484101671309617\n",
      "27\n",
      "actual 102.79 predicted 94.15590684938442\n",
      "difference (pred - actual) -8.634093150615584\n",
      "28\n",
      "actual 103.41 predicted 94.15591537007846\n",
      "difference (pred - actual) -9.254084629921536\n",
      "29\n",
      "actual 105.24 predicted 94.15592389077251\n",
      "difference (pred - actual) -11.084076109227482\n",
      "30\n",
      "actual 104.82 predicted 94.15593241146655\n",
      "difference (pred - actual) -10.664067588533442\n",
      "31\n",
      "actual 105.25 predicted 94.15594093216059\n",
      "difference (pred - actual) -11.09405906783941\n",
      "32\n",
      "actual 110.22 predicted 94.15594945285464\n",
      "difference (pred - actual) -16.064050547145357\n",
      "33\n",
      "actual 107.22 predicted 94.15595797354868\n",
      "difference (pred - actual) -13.064042026451318\n",
      "34\n",
      "actual 105.46 predicted 94.15596649424272\n",
      "difference (pred - actual) -11.304033505757275\n",
      "35\n",
      "actual 105.26 predicted 94.15597501493677\n",
      "difference (pred - actual) -11.104024985063234\n",
      "36\n",
      "actual 104.23 predicted 94.15598353563081\n",
      "difference (pred - actual) -10.074016464369194\n",
      "37\n",
      "actual 106.83 predicted 94.15599205632485\n",
      "difference (pred - actual) -12.67400794367515\n",
      "38\n",
      "actual 107.43 predicted 94.15600057701889\n",
      "difference (pred - actual) -13.27399942298112\n",
      "39\n",
      "actual 107.61 predicted 94.15600909771294\n",
      "difference (pred - actual) -13.45399090228706\n",
      "40\n",
      "actual 110.57 predicted 94.15601761840698\n",
      "difference (pred - actual) -16.413982381593016\n",
      "41\n",
      "actual 111.27 predicted 94.15602613910102\n",
      "difference (pred - actual) -17.11397386089898\n",
      "42\n",
      "actual 111.03 predicted 94.15603465979507\n",
      "difference (pred - actual) -16.873965340204933\n",
      "43\n",
      "actual 111.81 predicted 94.1560431804891\n",
      "difference (pred - actual) -17.653956819510896\n",
      "44\n",
      "actual 109.69 predicted 94.15605170118315\n",
      "difference (pred - actual) -15.533948298816853\n",
      "45\n",
      "actual 109.57 predicted 94.1560602218772\n",
      "difference (pred - actual) -15.413939778122796\n",
      "46\n",
      "actual 108.67 predicted 94.15606874257124\n",
      "difference (pred - actual) -14.513931257428766\n",
      "47\n",
      "actual 108.12 predicted 94.15607726326527\n",
      "difference (pred - actual) -13.96392273673473\n",
      "48\n",
      "actual 107.64 predicted 94.15608578395933\n",
      "difference (pred - actual) -13.483914216040674\n",
      "49\n",
      "actual 107.77 predicted 94.15609430465337\n",
      "difference (pred - actual) -13.61390569534663\n"
     ]
    }
   ],
   "source": [
    "for i in range(50):\n",
    "    print (i)\n",
    "    print (\"actual\", test[i], \"predicted\", full_pred[i])\n",
    "    print (\"difference (pred - actual)\", full_pred[i]-test[i])"
   ]
  },
  {
   "cell_type": "code",
   "execution_count": 11,
   "metadata": {
    "collapsed": true
   },
   "outputs": [],
   "source": [
    "#create function to predict next weeks prices\n",
    "#Essentially putting together all the previous cells into one function\n",
    "\n",
    "def price_preds(df,days, column = 'Close'):\n",
    "    #df = dataframe\n",
    "    #column = Close --> predicting closing price\n",
    "    #days --> how many days do you want to predict\n",
    "    \n",
    "    #Seperate into train and test\n",
    "    train = df.Close[:-days]\n",
    "    test = df.Close[len(train-1):]\n",
    "    \n",
    "    \n",
    "    #Difference the train set\n",
    "    train_diff = train.diff()\n",
    "    \n",
    "    #fit model\n",
    "    ar1ma1 = ARIMA(train.values, (1,2,1)).fit(disp=0)\n",
    "    \n",
    "    #predict out of sample ---> test set\n",
    "    preds = ar1ma1.predict(start=len(train), end=len(train)+days-1)\n",
    "\n",
    "    #Add predictions to the last value in train set\n",
    "    full_preds = train[len(train)-1] + np.cumsum(preds)\n",
    "   \n",
    "    #Set date ticks for graphs\n",
    "    date_ticks = test.index\n",
    "    \n",
    "    fig, ax = plt.subplots(figsize=(12,5))\n",
    "    ax.plot(date_ticks, test, lw=2, color='grey', ls='dashed',label='Actual')\n",
    "    ax.plot(date_ticks, full_preds, lw=2, color='darkred',label='Predicted')\n",
    "    plt.xlabel(\"Date\")\n",
    "    plt.ylabel(\"Price\")\n",
    "    plt.title(\"Actual vs predicted price\")\n",
    "    plt.legend()\n",
    "    plt.show();\n"
   ]
  },
  {
   "cell_type": "code",
   "execution_count": 12,
   "metadata": {
    "scrolled": false
   },
   "outputs": [
    {
     "name": "stderr",
     "output_type": "stream",
     "text": [
      "/Users/davidhoffman/anaconda3/lib/python3.6/site-packages/statsmodels/tsa/kalmanf/kalmanfilter.py:646: FutureWarning: Conversion of the second argument of issubdtype from `float` to `np.floating` is deprecated. In future, it will be treated as `np.float64 == np.dtype(float).type`.\n",
      "  if issubdtype(paramsdtype, float):\n",
      "/Users/davidhoffman/anaconda3/lib/python3.6/site-packages/statsmodels/tsa/kalmanf/kalmanfilter.py:650: FutureWarning: Conversion of the second argument of issubdtype from `complex` to `np.complexfloating` is deprecated. In future, it will be treated as `np.complex128 == np.dtype(complex).type`.\n",
      "  elif issubdtype(paramsdtype, complex):\n",
      "/Users/davidhoffman/anaconda3/lib/python3.6/site-packages/statsmodels/tsa/kalmanf/kalmanfilter.py:577: FutureWarning: Conversion of the second argument of issubdtype from `float` to `np.floating` is deprecated. In future, it will be treated as `np.float64 == np.dtype(float).type`.\n",
      "  if issubdtype(paramsdtype, float):\n"
     ]
    },
    {
     "data": {
      "image/png": "[encoded data removed]",
      "text/plain": [
       "<matplotlib.figure.Figure at 0x1012a9fd0>"
      ]
     },
     "metadata": {},
     "output_type": "display_data"
    }
   ],
   "source": [
    "price_preds(df = df, days = 31, column = 'Close')"
   ]
  },
  {
   "cell_type": "code",
   "execution_count": null,
   "metadata": {
    "collapsed": true
   },
   "outputs": [],
   "source": []
  },
  {
   "cell_type": "code",
   "execution_count": null,
   "metadata": {
    "collapsed": true
   },
   "outputs": [],
   "source": []
  }
 ],
 "metadata": {
  "kernelspec": {
   "display_name": "Python [conda env:anaconda3]",
   "language": "python",
   "name": "conda-env-anaconda3-py"
  },
  "language_info": {
   "codemirror_mode": {
    "name": "ipython",
    "version": 3
   },
   "file_extension": ".py",
   "mimetype": "text/x-python",
   "name": "python",
   "nbconvert_exporter": "python",
   "pygments_lexer": "ipython3",
   "version": "3.6.3"
  }
 },
 "nbformat": 4,
 "nbformat_minor": 2
}
