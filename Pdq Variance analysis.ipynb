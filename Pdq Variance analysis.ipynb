{
 "cells": [
  {
   "cell_type": "code",
   "execution_count": null,
   "metadata": {},
   "outputs": [],
   "source": [
    "import pandas as pd\n",
    "import numpy as np\n",
    "from statsmodels.tsa.arima_model import ARIMA\n",
    "from statsmodels.tsa.arima_model import ARMA\n",
    "import matplotlib.pyplot as plt\n",
    "from statsmodels.tsa.stattools import adfuller\n",
    "from sklearn.metrics import r2_score"
   ]
  },
  {
   "cell_type": "code",
   "execution_count": null,
   "metadata": {
    "collapsed": true
   },
   "outputs": [],
   "source": [
    "GS = \"/Users/davidhoffman/desktop/stocks_download/GS_2006-01-01_to_2018-01-01.csv\"\n",
    "df = pd.read_csv(GS, index_col=\"Date\", parse_dates=True)"
   ]
  },
  {
   "cell_type": "code",
   "execution_count": null,
   "metadata": {},
   "outputs": [],
   "source": [
    "#Only keep closing price of the day\n",
    "df.drop(['Open','High','Low'], axis = 1, inplace = True)\n",
    "df.drop(['Name'], axis = 1, inplace = True)\n",
    "df.drop(['Volume'], axis = 1, inplace = True)"
   ]
  },
  {
   "cell_type": "code",
   "execution_count": null,
   "metadata": {
    "collapsed": true
   },
   "outputs": [],
   "source": [
    "train = df.Close[:-31]\n",
    "test = df.Close[len(train):]\n",
    "train_diff = train.diff()"
   ]
  },
  {
   "cell_type": "code",
   "execution_count": null,
   "metadata": {},
   "outputs": [],
   "source": [
    "#ARIMA model\n",
    "\n",
    "ar1ma1 = ARIMA(train.dropna().values, (1,1,1), freq =\"D\").fit()\n",
    "ar1ma1_diff = ARIMA(train_diff.dropna().values, (5,1,1), freq=\"D\").fit()"
   ]
  },
  {
   "cell_type": "code",
   "execution_count": null,
   "metadata": {},
   "outputs": [],
   "source": [
    "#Predictions out of sample\n",
    "\n",
    "predictions_ar1ma1 = ar1ma1.predict(start=len(train),end=len(train)+31)\n",
    "full_pred_ar_ar1ma1 = train[len(train)-1]+np.cumsum(predictions_ar1ma1)\n",
    "\n",
    "predictions_ar1ma1_diff = ar1ma1_diff.predict(start=len(train),end=len(train)+31)\n",
    "full_pred_ar1ma1_diff = train[len(train)-1]+np.cumsum(predictions_ar1ma1_diff)\n"
   ]
  },
  {
   "cell_type": "code",
   "execution_count": null,
   "metadata": {},
   "outputs": [],
   "source": [
    "#Actual close price vs full_pred_ar1ma1_diff, out of sample\n",
    "\n",
    "fig, ax = plt.subplots(figsize=(12,5))\n",
    "date_ticks = test.index\n",
    "ax.plot(date_ticks, full_pred_ar1ma1_diff[2:], lw=2, color='grey', ls='dashed', label = 'Predictions')\n",
    "ax.plot(date_ticks, test, lw=2, color='darkred', label = 'Actual')\n",
    "plt.xlabel(\"Date\")\n",
    "plt.ylabel(\"Closing price\")\n",
    "plt.title(\"Close vs predicted close\")\n",
    "plt.legend()\n",
    "plt.show();"
   ]
  },
  {
   "cell_type": "code",
   "execution_count": null,
   "metadata": {},
   "outputs": [],
   "source": [
    "ar1ma1 = ARIMA(train.dropna().values, (13,2,1), freq=\"D\").fit()"
   ]
  },
  {
   "cell_type": "code",
   "execution_count": null,
   "metadata": {},
   "outputs": [],
   "source": [
    "len(train)"
   ]
  },
  {
   "cell_type": "code",
   "execution_count": null,
   "metadata": {},
   "outputs": [],
   "source": [
    "ar1ma1.plot_predict(2970,2999,dynamic=False)"
   ]
  },
  {
   "cell_type": "code",
   "execution_count": 76,
   "metadata": {},
   "outputs": [],
   "source": [
    "#Function to create a model and evaluate its predictions\n",
    "#Arima model,\n",
    "#input will be parameter p and df/col\n",
    "\n",
    "def price_preds_p(df,days, p, column = 'Close'):\n",
    "    #df = dataframe\n",
    "    #column = Close --> predicting closing price\n",
    "    #days --> how many days do you want to predict\n",
    "    #p --> paramater p --> lags\n",
    "    \n",
    "    #Seperate into train and test\n",
    "    train = df.Close[:-days]\n",
    "    test = df.Close[len(train):]\n",
    "    \n",
    "    \n",
    "    #Difference the train set\n",
    "    #train_diff = train.diff()\n",
    "    \n",
    "    #fit model\n",
    "    ar1ma1 = ARIMA(train.values, (p,2,1)).fit(disp=0)\n",
    "    \n",
    "    #predict out of sample ---> test set\n",
    "    preds = ar1ma1.predict(start=len(train), end=len(train)+days-1)\n",
    "\n",
    "    #Add predictions to the last value in train set\n",
    "    full_preds = train[len(train)-1] + np.cumsum(preds)\n",
    "   \n",
    "    #for i in range(days):\n",
    "        #print (\"actual\", test[i], \"predicted\", full_preds[i])\n",
    "        #print (\"difference (pred - actual)\", full_preds[i]-test[i])\n",
    "    return np.var(full_preds)"
   ]
  },
  {
   "cell_type": "markdown",
   "metadata": {},
   "source": [
    "results for price preds p function:\n",
    "p=:\n",
    "1.    0.004345001535578772\n",
    "\n",
    "2.    0.0034985237621212094\n",
    "\n",
    "3.    0.00452138116930596\n",
    "\n",
    "4.    0.0073039167950536025\n",
    "\n",
    "5.    0.014790984047964974\n",
    "\n",
    "6.    0.009266575375453334\n",
    "\n",
    "7.    0.010224646837947162\n",
    "\n",
    "8.    0.027918079364850162\n",
    "\n",
    "9.    0.04855250276397046\n",
    "\n",
    "10.   0.04927565725958586\n",
    "\n",
    "11.   0.04732463398094426\n",
    "\n",
    "12.   0.04745722050024483\n",
    "\n",
    "13.   0.05185252215646854\n",
    "\n",
    "14.   0.048293020780350894\n",
    "\n",
    "15.   0.04047066591073391\n",
    "\n",
    "16.   0.030693392841559006\n",
    "\n",
    "\n",
    "\n",
    "\n",
    "\n"
   ]
  },
  {
   "cell_type": "code",
   "execution_count": 87,
   "metadata": {
    "scrolled": true
   },
   "outputs": [
    {
     "data": {
      "text/plain": [
       "'for i in range(1,20):\\n    x = price_preds_p(df=df,days=1, p= i, column = \\'Close\\')\\n    print (i,\" .  \", x)'"
      ]
     },
     "execution_count": 87,
     "metadata": {},
     "output_type": "execute_result"
    }
   ],
   "source": [
    "\"\"\"for i in range(1,20):\n",
    "    x = price_preds_p(df=df,days=1, p= i, column = 'Close')\n",
    "    print (i,\" .  \", x)\"\"\""
   ]
  }
 ],
 "metadata": {
  "kernelspec": {
   "display_name": "Python [conda env:anaconda3]",
   "language": "python",
   "name": "conda-env-anaconda3-py"
  },
  "language_info": {
   "codemirror_mode": {
    "name": "ipython",
    "version": 3
   },
   "file_extension": ".py",
   "mimetype": "text/x-python",
   "name": "python",
   "nbconvert_exporter": "python",
   "pygments_lexer": "ipython3",
   "version": "3.6.3"
  }
 },
 "nbformat": 4,
 "nbformat_minor": 2
}
